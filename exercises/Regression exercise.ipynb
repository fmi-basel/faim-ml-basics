{
 "cells": [
  {
   "cell_type": "markdown",
   "metadata": {},
   "source": [
    "# Regression exercise"
   ]
  },
  {
   "cell_type": "code",
   "execution_count": null,
   "metadata": {},
   "outputs": [],
   "source": [
    "import numpy as np\n",
    "import matplotlib.pyplot as plt\n",
    "import seaborn\n",
    "import pandas\n",
    "\n",
    "from sklearn.model_selection import cross_val_score\n",
    "from sklearn.model_selection import train_test_split\n",
    "from sklearn.metrics import mean_squared_error\n"
   ]
  },
  {
   "cell_type": "markdown",
   "metadata": {},
   "source": [
    "## Loading and visualizing the data\n",
    "\n",
    "Lets have a look at the dataset"
   ]
  },
  {
   "cell_type": "code",
   "execution_count": null,
   "metadata": {},
   "outputs": [],
   "source": [
    "training_data = pandas.read_csv('../data/regression_training.csv')\n",
    "seaborn.pairplot(training_data)\n",
    "plt.show()"
   ]
  },
  {
   "cell_type": "markdown",
   "metadata": {},
   "source": [
    "We have to divide our dataframe into features and targets, and we'll split some samples off for validation."
   ]
  },
  {
   "cell_type": "code",
   "execution_count": null,
   "metadata": {},
   "outputs": [],
   "source": [
    "def split_targets(data, target_key):\n",
    "    '''\n",
    "    '''\n",
    "    return data.drop(columns=target_key), data[target_key].copy()\n",
    "\n",
    "\n",
    "\n",
    "# For visualisation purposes, we just use one validation split here.\n",
    "train_features, val_features, train_target, val_target = train_test_split(*split_targets(training_data, 'target'),\n",
    "                                                                          test_size=0.2)\n",
    "\n",
    "print('Train features: ', train_features.shape)\n",
    "print('Validation features: ', val_features.shape)"
   ]
  },
  {
   "cell_type": "markdown",
   "metadata": {},
   "source": [
    "Lets fit a simple linear model:"
   ]
  },
  {
   "cell_type": "code",
   "execution_count": null,
   "metadata": {},
   "outputs": [],
   "source": [
    "from sklearn.linear_model import LinearRegression\n",
    "\n",
    "model = LinearRegression()\n",
    "model.fit(train_features, train_target)"
   ]
  },
  {
   "cell_type": "markdown",
   "metadata": {},
   "source": [
    "How well does it work?"
   ]
  },
  {
   "cell_type": "code",
   "execution_count": null,
   "metadata": {},
   "outputs": [],
   "source": [
    "def plot_model_predictions(model, features, targets, name):\n",
    "    '''compare predictions vs reference targets.\n",
    "    \n",
    "    ''' \n",
    "    pred = model.predict(features)\n",
    "    mse = mean_squared_error(pred, targets)\n",
    "    \n",
    "    plt.scatter(targets, pred, marker='+', label='MSE ({}): {:1.2f}'.format(name, mse))\n",
    "    val_range = [min(targets.min(), pred.min()), max(targets.max(), pred.max())]\n",
    "    plt.xlim(val_range)\n",
    "    plt.ylim(val_range)\n",
    "    plt.plot(val_range, val_range, color='lightgrey')\n",
    "    plt.ylabel('Predicted')\n",
    "    plt.xlabel('Reference')\n",
    "\n",
    "\n",
    "\n",
    "plot_model_predictions(model, train_features, train_target, 'training')\n",
    "plot_model_predictions(model, val_features, val_target, 'validation')\n",
    "plt.legend()\n",
    "plt.show()\n"
   ]
  },
  {
   "cell_type": "markdown",
   "metadata": {},
   "source": [
    "That doesnt look great. Can we do better? How about a more complex model?\n",
    "\n",
    "One simple way to achieve this is to add more features, e.g. with the ```PolynomialFeatures``` transformation as described [here](https://scikit-learn.org/stable/modules/generated/sklearn.preprocessing.PolynomialFeatures.html)\n",
    "\n",
    "This can quite easily be combined with the estimator using the [Pipeline](https://scikit-learn.org/stable/modules/generated/sklearn.pipeline.Pipeline.html). Note that we also added a [standard scaler](https://scikit-learn.org/stable/modules/generated/sklearn.preprocessing.StandardScaler.html#sklearn.preprocessing.StandardScaler)."
   ]
  },
  {
   "cell_type": "code",
   "execution_count": null,
   "metadata": {},
   "outputs": [],
   "source": [
    "from sklearn.preprocessing import StandardScaler\n",
    "from sklearn.pipeline import Pipeline\n",
    "from sklearn.preprocessing import PolynomialFeatures\n",
    "from sklearn.linear_model import LinearRegression\n",
    "from sklearn.linear_model import Ridge\n",
    "\n",
    "def create_polynomial_model(degree):\n",
    "    '''\n",
    "    '''\n",
    "    return Pipeline([('scaling', StandardScaler()),\n",
    "                     ('polynomial_features', PolynomialFeatures(degree=degree, include_bias=False)),\n",
    "                     ('linear_regression', LinearRegression())])\n",
    "\n",
    "model = create_polynomial_model(3)\n",
    "model.fit(train_features, train_target)\n",
    "\n",
    "plot_model_predictions(model, train_features, train_target, 'training')\n",
    "plot_model_predictions(model, val_features, val_target, 'validation')\n",
    "plt.legend()\n",
    "plt.show()"
   ]
  },
  {
   "cell_type": "markdown",
   "metadata": {},
   "source": [
    "\n",
    "\n",
    "- What happened here? What is the behaviour with increasing number of features?\n",
    "\n",
    "- What happens if you replace the ```LinearRegression``` with a regularized regression? E.g. a [ridge](https://scikit-learn.org/stable/modules/generated/sklearn.linear_model.Ridge.html) or a [lasso](https://scikit-learn.org/stable/modules/generated/sklearn.linear_model.Lasso.html) regression?\n",
    "- Do you find any non-linear regression models in scikit-learn? If yes, try it out and compare it to the (regularized) least squares regression from above.\n",
    "- Is there a way to determine which features are important for the task?"
   ]
  },
  {
   "cell_type": "code",
   "execution_count": null,
   "metadata": {
    "scrolled": false
   },
   "outputs": [],
   "source": [
    "# TODO ..."
   ]
  },
  {
   "cell_type": "markdown",
   "metadata": {},
   "source": [
    "## Final test\n",
    "\n",
    "Finally, lets load the test dataset and see how well our model does"
   ]
  },
  {
   "cell_type": "code",
   "execution_count": null,
   "metadata": {},
   "outputs": [],
   "source": [
    "raise RuntimeError(\"Are you sure you already want to test your classifier?\")\n",
    "\n",
    "plot_model_predictions(model, *split_targets(pandas.read_csv('../data/regression_test.csv'), 'target'), 'test')\n",
    "plt.legend()\n",
    "plt.show()"
   ]
  },
  {
   "cell_type": "markdown",
   "metadata": {},
   "source": [
    "## More data\n",
    "\n",
    "Now that you are happy with your model's performance, you tell everybody about it. A colleague approaches you, saying that he does the same measurements and using your regression model would save a lot of time. So you give it a try:"
   ]
  },
  {
   "cell_type": "code",
   "execution_count": null,
   "metadata": {},
   "outputs": [],
   "source": [
    "more_data = pandas.read_csv('../data/regression_more.csv')\n",
    "more_features, more_targets = split_targets(more_data, 'target')\n",
    "\n",
    "plot_model_predictions(model, more_features, more_targets, 'more')\n",
    "plt.legend()\n",
    "plt.show()"
   ]
  },
  {
   "cell_type": "markdown",
   "metadata": {},
   "source": [
    "- How does it compare to your test evaluation? Is this normal? If no, what happened?"
   ]
  },
  {
   "cell_type": "code",
   "execution_count": null,
   "metadata": {},
   "outputs": [],
   "source": []
  },
  {
   "cell_type": "code",
   "execution_count": null,
   "metadata": {},
   "outputs": [],
   "source": []
  }
 ],
 "metadata": {
  "kernelspec": {
   "display_name": "Python (PSM)",
   "language": "python",
   "name": "psm"
  },
  "language_info": {
   "codemirror_mode": {
    "name": "ipython",
    "version": 3
   },
   "file_extension": ".py",
   "mimetype": "text/x-python",
   "name": "python",
   "nbconvert_exporter": "python",
   "pygments_lexer": "ipython3",
   "version": "3.6.8"
  }
 },
 "nbformat": 4,
 "nbformat_minor": 1
}
